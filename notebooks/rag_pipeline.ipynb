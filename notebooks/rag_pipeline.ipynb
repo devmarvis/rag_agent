{
 "cells": [
  {
   "cell_type": "code",
   "execution_count": 2,
   "id": "ea21c94e",
   "metadata": {},
   "outputs": [],
   "source": [
    "import os\n",
    "from pathlib import Path\n",
    "from dotenv import load_dotenv"
   ]
  },
  {
   "cell_type": "code",
   "execution_count": 3,
   "id": "1804b271",
   "metadata": {},
   "outputs": [],
   "source": [
    "load_dotenv()\n",
    "groq_api_key = os.environ.get(\"GROQ_API_KEY\")"
   ]
  },
  {
   "cell_type": "code",
   "execution_count": 4,
   "id": "0f29322c",
   "metadata": {},
   "outputs": [
    {
     "data": {
      "text/plain": [
       "56"
      ]
     },
     "execution_count": 4,
     "metadata": {},
     "output_type": "execute_result"
    }
   ],
   "source": [
    "# Loading/Reading all the pdf documents\n",
    "\n",
    "from langchain_community.document_loaders import DirectoryLoader, PyPDFLoader\n",
    "\n",
    "loader = DirectoryLoader(\n",
    "    \"../data/pdf_files\",\n",
    "    glob=\"**/*.pdf\",\n",
    "    loader_cls=PyPDFLoader\n",
    ")\n",
    "\n",
    "docs = loader.load()\n",
    "len(docs)\n"
   ]
  },
  {
   "cell_type": "code",
   "execution_count": 5,
   "id": "875bf9e9",
   "metadata": {},
   "outputs": [
    {
     "name": "stdout",
     "output_type": "stream",
     "text": [
      "Created 98 chunks\n"
     ]
    }
   ],
   "source": [
    "# Splitting the Texts into Chunks\n",
    "\n",
    "from langchain.text_splitter import RecursiveCharacterTextSplitter\n",
    "\n",
    "text_splitter = RecursiveCharacterTextSplitter(\n",
    "    chunk_size=1000,\n",
    "    chunk_overlap=200,\n",
    "    length_function=len,\n",
    "    separators=[\"\\n\\n\", \"\\n\", \" \", \"\"]\n",
    ")\n",
    "\n",
    "split_texts = text_splitter.split_documents(docs)\n",
    "print(f\"Created {len(split_texts)} chunks\")"
   ]
  },
  {
   "cell_type": "code",
   "execution_count": 7,
   "id": "1b342c41",
   "metadata": {},
   "outputs": [
    {
     "name": "stdout",
     "output_type": "stream",
     "text": [
      "✅ Vector store created with 98 embeddings\n"
     ]
    }
   ],
   "source": [
    "# Embedding the split texts into vectors\n",
    "\n",
    "from langchain_community.embeddings import HuggingFaceEmbeddings\n",
    "\n",
    "embeddings = HuggingFaceEmbeddings(\n",
    "    model_name=\"sentence-transformers/all-MiniLM-L6-v2\"\n",
    ")\n",
    "\n",
    "# Creating the Vector Store (ChromaDB)\n",
    "\n",
    "from langchain_community.vectorstores import Chroma\n",
    "\n",
    "vectorstores = Chroma.from_documents(\n",
    "    documents=split_texts,\n",
    "    embedding=embeddings,\n",
    "    persist_directory=\"../data/chroma_db\"\n",
    ")\n",
    "\n",
    "print(f\"✅ Vector store created with {len(split_texts)} embeddings\")"
   ]
  },
  {
   "cell_type": "code",
   "execution_count": 8,
   "id": "0d5c0b87",
   "metadata": {},
   "outputs": [],
   "source": [
    "retriever = vectorstores.as_retriever(\n",
    "    search_type=\"similarity\",\n",
    "    search_kwargs={\"k\": 3}  # Return top 3 most relevant chunks\n",
    ")"
   ]
  },
  {
   "cell_type": "code",
   "execution_count": 9,
   "id": "cf5454f9",
   "metadata": {},
   "outputs": [
    {
     "name": "stderr",
     "output_type": "stream",
     "text": [
      "C:\\Users\\Admin\\AppData\\Local\\Temp\\ipykernel_9756\\2105759968.py:5: LangChainDeprecationWarning: Please see the migration guide at: https://python.langchain.com/docs/versions/migrating_memory/\n",
      "  memory = ConversationBufferMemory(\n"
     ]
    }
   ],
   "source": [
    "# Adding Memory\n",
    "\n",
    "from langchain.memory import ConversationBufferMemory\n",
    "\n",
    "memory = ConversationBufferMemory(\n",
    "    memory_key=\"chat_history\",\n",
    "    return_messages=True,\n",
    "    output_key=\"answer\"\n",
    ")"
   ]
  },
  {
   "cell_type": "code",
   "execution_count": 11,
   "id": "2da8f658",
   "metadata": {},
   "outputs": [
    {
     "name": "stdout",
     "output_type": "stream",
     "text": [
      "✅ Connected to Groq LLM (llama-3.3-70b-versatile)\n"
     ]
    }
   ],
   "source": [
    "# Prompting\n",
    "\n",
    "from langchain_core.prompts import ChatPromptTemplate, MessagesPlaceholder\n",
    "\n",
    "prompt = ChatPromptTemplate.from_messages([\n",
    "    (\"system\", \"\"\"You are an expert AI assistant specialized in construction tender analysis.\n",
    "\n",
    "Your role is to help analyze tender documents and company capabilities to determine bid feasibility.\n",
    "\n",
    "IMPORTANT RULES:\n",
    "- Answer naturally and conversationally (never say \"according to the document\")\n",
    "- Use the conversation history to understand context and follow-up questions\n",
    "- Be specific with numbers, dates, and requirements\n",
    "- If you don't have enough information, say so clearly\n",
    "- Focus on actionable insights for decision-making\n",
    "- Compare tender requirements against company capabilities when relevant\n",
    "\n",
    "Remember: You're helping a construction company decide whether to bid on projects.\"\"\"),\n",
    "    \n",
    "    MessagesPlaceholder(variable_name=\"chat_history\"),\n",
    "    \n",
    "    (\"human\", \"\"\"Context information from documents:\n",
    "{context}\n",
    "\n",
    "Question: {question}\"\"\")\n",
    "])\n",
    "\n",
    "from langchain_groq import ChatGroq\n",
    "\n",
    "groq_llm = ChatGroq(\n",
    "    groq_api_key=groq_api_key,\n",
    "    model_name=\"llama-3.3-70b-versatile\",\n",
    "    temperature=0.1,  # Low temperature for factual responses\n",
    "    max_tokens=1024\n",
    ")\n",
    "\n",
    "print(\"✅ Connected to Groq LLM (llama-3.3-70b-versatile)\")"
   ]
  },
  {
   "cell_type": "code",
   "execution_count": 12,
   "id": "4b5a8803",
   "metadata": {},
   "outputs": [],
   "source": [
    "# Build RAG Chain\n",
    "\n",
    "from langchain_core.runnables import RunnablePassthrough\n",
    "from langchain_core.output_parsers import StrOutputParser\n",
    "\n",
    "def format_docs(docs):\n",
    "    \"\"\"Format retrieved documents into a single string\"\"\"\n",
    "    return \"\\n\\n\".join([doc.page_content for doc in docs])\n",
    "\n",
    "def get_chat_history(memory):\n",
    "    \"\"\"Extract chat history from memory\"\"\"\n",
    "    return memory.load_memory_variables({}).get(\"chat_history\", [])\n",
    "\n",
    "rag_chain = (\n",
    "    {\n",
    "        \"context\": retriever | format_docs,\n",
    "        \"question\": RunnablePassthrough(),\n",
    "        \"chat_history\": lambda x: get_chat_history(memory)\n",
    "    }\n",
    "    | prompt\n",
    "    | groq_llm\n",
    "    | StrOutputParser()\n",
    ")"
   ]
  },
  {
   "cell_type": "code",
   "execution_count": 13,
   "id": "4b05f11c",
   "metadata": {},
   "outputs": [],
   "source": [
    "def chat_with_memory(question):\n",
    "    try:\n",
    "        # Get answer from RAG chain\n",
    "        answer = rag_chain.invoke(question)\n",
    "        \n",
    "        # Save to memory\n",
    "        memory.save_context(\n",
    "            {\"input\": question},\n",
    "            {\"answer\": answer}\n",
    "        )\n",
    "        \n",
    "        return answer\n",
    "    \n",
    "    except Exception as e:\n",
    "        return f\"Error generating response: {e}\""
   ]
  },
  {
   "cell_type": "code",
   "execution_count": 14,
   "id": "f299c8f1",
   "metadata": {},
   "outputs": [
    {
     "name": "stdout",
     "output_type": "stream",
     "text": [
      "The Lekki Bridge project is a 2.4-kilometer reinforced concrete bridge construction project along the Lekki-Epe Expressway coastal corridor. The goal of the project is to reduce traffic congestion and improve coastal connectivity as part of the Lagos State Infrastructure Development Initiative. The project involves a range of activities, including detailed engineering design, site preparation, construction of the bridge foundation, erection of the superstructure, installation of drainage and safety systems, and more. The project is expected to commence on May 1, 2025, and be completed by April 30, 2027, with a 24-month defects liability period. \n",
      "\n",
      "To determine bid feasibility, we would need to assess your company's capabilities in terms of experience with similar projects, available resources, and expertise in areas like bridge construction, soil stabilization, and environmental impact mitigation. We should also consider the project's requirements, such as the 24-month contract period and the need for quality assurance and testing protocols. \n",
      "\n",
      "Can you tell me more about your company's experience and capabilities in bridge construction and large-scale infrastructure projects?\n"
     ]
    }
   ],
   "source": [
    "response1 = chat_with_memory(\"What is the Lekki Bridge project about?\")\n",
    "print(response1)"
   ]
  },
  {
   "cell_type": "code",
   "execution_count": 15,
   "id": "af3c1847",
   "metadata": {},
   "outputs": [
    {
     "name": "stdout",
     "output_type": "stream",
     "text": [
      "To be eligible to bid on the Lekki Bridge project, companies must meet certain key requirements. \n",
      "\n",
      "Firstly, from a registration perspective, bidders need to possess a valid Corporate Affairs Commission (CAC) registration certificate, a Tax Clearance Certificate for the current year (2025), evidence of registration with the Federal Inland Revenue Service (FIRS), a VAT registration certificate, and a Pension Commission (PenCom) compliance certificate.\n",
      "\n",
      "From a technical standpoint, bidders must have a minimum of 10 years of operational experience in civil engineering construction and have successfully completed at least three bridge construction projects within the last 7 years.\n",
      "\n",
      "These eligibility criteria are non-negotiable, and bidders must meet all of them to be considered for the project. \n",
      "\n",
      "Does your company meet these registration and technical requirements?\n"
     ]
    }
   ],
   "source": [
    "response2 = chat_with_memory(\"What are the key eligibility requirements for bidders?\")\n",
    "print(response2)"
   ]
  },
  {
   "cell_type": "code",
   "execution_count": 16,
   "id": "545ddca4",
   "metadata": {},
   "outputs": [
    {
     "name": "stdout",
     "output_type": "stream",
     "text": [
      "Based on the provided document, it appears that Elalan Construction Limited meets the key eligibility requirements for bidders on the Lekki Bridge project.\n",
      "\n",
      "From a registration perspective, although the document doesn't explicitly mention the required registration certificates, it does establish Elalan Construction Limited as a legitimate company with a long history of operations in Nigeria, which suggests they likely have the necessary registrations.\n",
      "\n",
      "From a technical standpoint, Elalan Construction Limited has over 23 years of experience in civil engineering construction, which exceeds the 10-year requirement. They also specialize in bridge construction, among other areas, and have a distinguished portfolio of over 180 successfully completed projects valued at over ₦120 billion cumulatively. This suggests they have the necessary technical expertise and experience to handle a project like the Lekki Bridge.\n",
      "\n",
      "Additionally, the company's experience in handling complex, high-value infrastructure projects, including bridge construction, indicates they likely have the capacity to meet the technical requirements of the Lekki Bridge project.\n",
      "\n",
      "However, to confirm their eligibility, I would need to see specific documentation, such as their CAC registration certificate, Tax Clearance Certificate, and evidence of registration with the Federal Inland Revenue Service (FIRS), among others. \n",
      "\n",
      "It's also important to review their experience with similar projects, particularly bridge construction, to assess their ability to deliver the Lekki Bridge project successfully.\n"
     ]
    }
   ],
   "source": [
    "response3 = chat_with_memory(\"Does Elalan Construction meet these requirements?\")\n",
    "print(response3)"
   ]
  }
 ],
 "metadata": {
  "kernelspec": {
   "display_name": "Python (yRag)",
   "language": "python",
   "name": "yrag"
  },
  "language_info": {
   "codemirror_mode": {
    "name": "ipython",
    "version": 3
   },
   "file_extension": ".py",
   "mimetype": "text/x-python",
   "name": "python",
   "nbconvert_exporter": "python",
   "pygments_lexer": "ipython3",
   "version": "3.13.7"
  }
 },
 "nbformat": 4,
 "nbformat_minor": 5
}
